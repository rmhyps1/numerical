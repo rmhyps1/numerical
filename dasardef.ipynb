{
  "nbformat": 4,
  "nbformat_minor": 0,
  "metadata": {
    "colab": {
      "provenance": [],
      "authorship_tag": "ABX9TyNF5gNS6CKpTWpu6tf6f25v",
      "include_colab_link": true
    },
    "kernelspec": {
      "name": "python3",
      "display_name": "Python 3"
    },
    "language_info": {
      "name": "python"
    }
  },
  "cells": [
    {
      "cell_type": "markdown",
      "metadata": {
        "id": "view-in-github",
        "colab_type": "text"
      },
      "source": [
        "<a href=\"https://colab.research.google.com/github/rmhyps1/numerical/blob/main/dasardef.ipynb\" target=\"_parent\"><img src=\"https://colab.research.google.com/assets/colab-badge.svg\" alt=\"Open In Colab\"/></a>"
      ]
    },
    {
      "cell_type": "code",
      "execution_count": 6,
      "metadata": {
        "colab": {
          "base_uri": "https://localhost:8080/"
        },
        "id": "zUCd5ve0cl1i",
        "outputId": "e17afc49-2f72-4f45-9db5-88d24da4858c"
      },
      "outputs": [
        {
          "output_type": "stream",
          "name": "stdout",
          "text": [
            "0.20764667579703533  < 1/3\n"
          ]
        }
      ],
      "source": [
        "import numpy as np\n",
        "x = np.random.rand(1,1)\n",
        "x = x[0,0]\n",
        "\n",
        "if x < 0.33:\n",
        "    print(x, \" < 1/3\")\n",
        "elif x < 0.67:\n",
        "    print(\"1/3 <= \", x ,\"< 2/3\" )\n",
        "else:\n",
        "    print(x, \">= 2/3\")"
      ]
    },
    {
      "cell_type": "code",
      "source": [
        "def f(x):\n",
        "  return x**2 + 3\n",
        "\n",
        "print (\"f(2) =\", f(2))\n",
        "print(\"f(10) =\", f(10))"
      ],
      "metadata": {
        "colab": {
          "base_uri": "https://localhost:8080/"
        },
        "id": "IuYRD1N1dqKJ",
        "outputId": "34480902-375e-4951-bfe4-9f5d2391350b"
      },
      "execution_count": 7,
      "outputs": [
        {
          "output_type": "stream",
          "name": "stdout",
          "text": [
            "f(2) = 7\n",
            "f(10) = 103\n"
          ]
        }
      ]
    }
  ]
}