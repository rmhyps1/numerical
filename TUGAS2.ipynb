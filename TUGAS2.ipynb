{
  "nbformat": 4,
  "nbformat_minor": 0,
  "metadata": {
    "colab": {
      "provenance": [],
      "authorship_tag": "ABX9TyN6yZIls26pyldBqlOcUDNh",
      "include_colab_link": true
    },
    "kernelspec": {
      "name": "python3",
      "display_name": "Python 3"
    },
    "language_info": {
      "name": "python"
    }
  },
  "cells": [
    {
      "cell_type": "markdown",
      "metadata": {
        "id": "view-in-github",
        "colab_type": "text"
      },
      "source": [
        "<a href=\"https://colab.research.google.com/github/rmhyps1/numerical/blob/main/TUGAS2.ipynb\" target=\"_parent\"><img src=\"https://colab.research.google.com/assets/colab-badge.svg\" alt=\"Open In Colab\"/></a>"
      ]
    },
    {
      "cell_type": "markdown",
      "source": [
        "##TURUNAN ANALITIK\n",
        "SUHU AIR"
      ],
      "metadata": {
        "id": "DW_qJ1V0lSF8"
      }
    },
    {
      "cell_type": "code",
      "execution_count": 7,
      "metadata": {
        "colab": {
          "base_uri": "https://localhost:8080/"
        },
        "id": "4CDi1IkeiMeb",
        "outputId": "4a883e9a-b859-4a34-caa5-b38735206e12"
      },
      "outputs": [
        {
          "output_type": "stream",
          "name": "stdout",
          "text": [
            "Turunan analitik 2*t + 2\n",
            "Laju perubahan suhu di t=3 = 8 °C/menit\n",
            "hasil numerik di t=3 = 4.000500000000073 °C/menit\n"
          ]
        }
      ],
      "source": [
        "import sympy as sp\n",
        "import numpy as np\n",
        "\n",
        "t = sp.Symbol('t')\n",
        "T = t**2 + 2*t\n",
        "\n",
        "dT = sp.diff(T, t)\n",
        "print (\"Turunan analitik\", dT)\n",
        "\n",
        "dT_at_3 = dT.subs(t, 3)\n",
        "print(\"Laju perubahan suhu di t=3 =\", dT_at_3, \"°C/menit\")\n",
        "\n",
        "f = lambda x: x**2 + 2*x\n",
        "h = 0.001\n",
        "t0 = 3\n",
        "dT_num = (f(t0 + h) - f(t0))/ (2*h)\n",
        "print(\"hasil numerik di t=3 =\", dT_num, \"°C/menit\")"
      ]
    },
    {
      "cell_type": "code",
      "source": [
        "import sympy as sp\n",
        "import numpy as np\n",
        "\n",
        "# definisi variabel\n",
        "t = sp.Symbol('t')\n",
        "\n",
        "# fungsi suhu T(t) = sin(t) + cos(t)\n",
        "T = sp.sin(t) + sp.cos(t)\n",
        "\n",
        "# turunan analitik\n",
        "dT = sp.diff(T, t)\n",
        "print(\"Turunan analitik =\", dT)\n",
        "\n",
        "# hitung turunan di t=3\n",
        "dT_at_3 = dT.subs(t, 3)\n",
        "print(\"Laju perubahan suhu di t=3 =\", float(dT_at_3), \"°C/menit\")\n",
        "\n",
        "# versi numerik (aproksimasi turunan)\n",
        "f = lambda x: np.sin(x) + np.cos(x)\n",
        "h = 0.001\n",
        "t0 = 3\n",
        "dT_num = (f(t0 + h) - f(t0)) / (2*h)\n",
        "print(\"Hasil numerik di t=3 =\", dT_num, \"°C/menit\")"
      ],
      "metadata": {
        "colab": {
          "base_uri": "https://localhost:8080/"
        },
        "id": "8-WVqLprmmSr",
        "outputId": "32c13563-74dc-4dbe-8474-8410f467adb9"
      },
      "execution_count": 8,
      "outputs": [
        {
          "output_type": "stream",
          "name": "stdout",
          "text": [
            "Turunan analitik = -sin(t) + cos(t)\n",
            "Laju perubahan suhu di t=3 = -1.1311125046603128 °C/menit\n",
            "Hasil numerik di t=3 = -0.5653439399663229 °C/menit\n"
          ]
        }
      ]
    },
    {
      "cell_type": "markdown",
      "source": [
        "##TURUNAN PERTAMA\n",
        "Turunan eksak"
      ],
      "metadata": {
        "id": "u4oQPANnnn26"
      }
    },
    {
      "cell_type": "code",
      "source": [
        "import numpy as np\n",
        "\n",
        "#fungsi\n",
        "f = lambda x: x**2\n",
        "\n",
        "#titik evaluasi\n",
        "x0 = 3\n",
        "h = 0.01\n",
        "\n",
        "#turunan eksak\n",
        "exact = 2*x0\n",
        "\n",
        "#forward diff\n",
        "forward = (f(x0 + h) - f(x0))/h\n",
        "\n",
        "#backward diff\n",
        "backward = (f(x0) - f(x0 - h))/h\n",
        "\n",
        "#central diff\n",
        "central = (f(x0 + h) - f(x0 - h))/(2*h)\n",
        "\n",
        "#hasil\n",
        "print(\"Turunan eksak =\", exact)\n",
        "print(\"Turunan forward =\", forward)\n",
        "print(\"Turunan backward =\", backward)\n",
        "print(\"Turunan central =\", central)"
      ],
      "metadata": {
        "colab": {
          "base_uri": "https://localhost:8080/"
        },
        "id": "-Gm0kk-Knupe",
        "outputId": "303680f2-6161-40ce-e211-784c65f3ed4d"
      },
      "execution_count": 9,
      "outputs": [
        {
          "output_type": "stream",
          "name": "stdout",
          "text": [
            "Turunan eksak = 6\n",
            "Turunan forward = 6.009999999999849\n",
            "Turunan backward = 5.989999999999895\n",
            "Turunan central = 5.999999999999872\n"
          ]
        }
      ]
    },
    {
      "cell_type": "code",
      "source": [
        "import numpy as np\n",
        "\n",
        "# fungsi: f(x) = sin(x) + cos(x)\n",
        "f = lambda x: np.sin(x) + np.cos(x)\n",
        "\n",
        "# titik evaluasi\n",
        "x0 = 3\n",
        "h = 0.01\n",
        "\n",
        "# turunan eksak: f'(x) = cos(x) - sin(x)\n",
        "exact = np.cos(x0) - np.sin(x0)\n",
        "\n",
        "# forward diff\n",
        "forward = (f(x0 + h) - f(x0)) / h\n",
        "\n",
        "# backward diff\n",
        "backward = (f(x0) - f(x0 - h)) / h\n",
        "\n",
        "# central diff\n",
        "central = (f(x0 + h) - f(x0 - h)) / (2*h)\n",
        "\n",
        "# hasil\n",
        "print(\"Turunan eksak     =\", exact)\n",
        "print(\"Turunan forward   =\", forward)\n",
        "print(\"Turunan backward  =\", backward)\n",
        "print(\"Turunan central   =\", central)"
      ],
      "metadata": {
        "colab": {
          "base_uri": "https://localhost:8080/"
        },
        "id": "5Evi1FqoowsR",
        "outputId": "3eefc028-7840-4fa1-8194-9a834253bfb6"
      },
      "execution_count": 10,
      "outputs": [
        {
          "output_type": "stream",
          "name": "stdout",
          "text": [
            "Turunan eksak     = -1.1311125046603125\n",
            "Turunan forward   = -1.126849325806345\n",
            "Turunan backward  = -1.1353379799525998\n",
            "Turunan central   = -1.1310936528794724\n"
          ]
        }
      ]
    }
  ]
}