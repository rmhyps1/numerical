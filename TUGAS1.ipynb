{
  "nbformat": 4,
  "nbformat_minor": 0,
  "metadata": {
    "colab": {
      "provenance": [],
      "authorship_tag": "ABX9TyOY7JzWckInqRU3p1bGFpL2",
      "include_colab_link": true
    },
    "kernelspec": {
      "name": "python3",
      "display_name": "Python 3"
    },
    "language_info": {
      "name": "python"
    }
  },
  "cells": [
    {
      "cell_type": "markdown",
      "metadata": {
        "id": "view-in-github",
        "colab_type": "text"
      },
      "source": [
        "<a href=\"https://colab.research.google.com/github/rmhyps1/numerical/blob/main/TUGAS1.ipynb\" target=\"_parent\"><img src=\"https://colab.research.google.com/assets/colab-badge.svg\" alt=\"Open In Colab\"/></a>"
      ]
    },
    {
      "cell_type": "code",
      "source": [
        "import numpy as np\n",
        "import pandas as pd\n",
        "import sympy as sp\n",
        "import matplotlib.pyplot as plt"
      ],
      "metadata": {
        "id": "g7U_nUGczXkR"
      },
      "execution_count": 28,
      "outputs": []
    },
    {
      "cell_type": "markdown",
      "source": [
        "## Bisection Method\n",
        "\n",
        "### Pengertian\n",
        "Metode Bisection adalah salah satu algoritma numerik untuk mencari akar persamaan $f(x) = 0$.  \n",
        "Prinsip dasar metode ini menggunakan **Teorema Nilai Antara (Intermediate Value Theorem)**:  \n",
        "Jika $f(x)$ kontinu pada interval $[a, b]$ dan $f(a) < 0$ sedangkan $f(b) > 0$, maka terdapat suatu titik $c \\in (a,b)$ yang membuat $f(c) = 0$.\n",
        "\n",
        "\n",
        "### Rumus Bisection Method\n",
        "Titik tengah interval:\n",
        "$$ c = \\frac{a + b}{2} $$\n",
        "\n",
        "\n",
        "### Algoritma Bisection Method\n",
        "1. Tentukan interval awal $[a, b]$ dimana $f(a)$ dan $f(b)$ berlawanan tanda.  \n",
        "2. Hitung titik tengah:\n",
        "   $$\n",
        "   c = \\frac{a+b}{2}\n",
        "   $$\n",
        "3. Evaluasi $f(c)$:  \n",
        "   - Jika $f(c) = 0$ atau $|f(c)|$ sudah cukup kecil, maka $c$ dianggap sebagai akar.  \n",
        "   - Jika $f(a)\\cdot f(c) < 0$, maka akar berada di $[a, c]$, sehingga $b = c$.  \n",
        "   - Jika $f(c)\\cdot f(b) < 0$, maka akar berada di $[c, b]$, sehingga $a = c$.  \n",
        "4. Ulangi langkah 2–3 sampai kriteria berhenti terpenuhi (misalnya selisih $|b-a|$ sudah cukup kecil atau iterasi maksimum tercapai).\n"
      ],
      "metadata": {
        "id": "9cBO2xYMv2Df"
      }
    },
    {
      "cell_type": "code",
      "source": [
        "def f(x):\n",
        "  return x**2 - 4\n",
        "\n",
        "a = 0\n",
        "b = 5\n",
        "\n",
        "tol = 1e-6\n",
        "max_iter = 100\n",
        "\n",
        "for i in range(max_iter):\n",
        "  c = (a + b) / 2\n",
        "  if abs(f(c)) < tol:\n",
        "    break\n",
        "  if f(a) * f(c) < 0:\n",
        "    b = c\n",
        "  else:\n",
        "    a = c\n",
        "\n",
        "print(\"Akar ditemukan di x =\", c)"
      ],
      "metadata": {
        "colab": {
          "base_uri": "https://localhost:8080/"
        },
        "id": "MwR25_NT881O",
        "outputId": "d7475548-c0e6-46ab-e3e0-4c6959b41992"
      },
      "execution_count": 29,
      "outputs": [
        {
          "output_type": "stream",
          "name": "stdout",
          "text": [
            "Akar ditemukan di x = 1.9999998807907104\n"
          ]
        }
      ]
    },
    {
      "cell_type": "markdown",
      "source": [
        "## Regulasi Falsi (False Position Method)\n",
        "\n",
        "### Pengertian\n",
        "Metode Regulasi Falsi adalah metode numerik untuk mencari akar persamaan $f(x) = 0$.  \n",
        "Prinsipnya mirip dengan Bisection Method, bedanya pada Regulasi Falsi titik baru tidak diambil dari tengah interval, tetapi dari **titik potong garis secant** yang melalui $(a, f(a))$ dan $(b, f(b))$ dengan sumbu-$x$.\n",
        "\n",
        "\n",
        "### Dasar Teori\n",
        "Metode ini tetap menggunakan **Teorema Nilai Antara (Intermediate Value Theorem/IVT)** dengan syarat:\n",
        "- Fungsi $f(x)$ kontinu pada interval $[a, b]$.  \n",
        "- $f(a)$ dan $f(b)$ memiliki tanda berbeda ($f(a)\\cdot f(b) < 0$).  \n",
        "\n",
        "\n",
        "### Rumus Regulasi Falsi\n",
        "1. Rumus gradien (kemiringan garis secant):  \n",
        "   $$\n",
        "   m = \\frac{f(b) - f(a)}{b - a}\n",
        "   $$  \n",
        "\n",
        "2. Persamaan garis melalui $(a, f(a))$ dan $(b, f(b))$:  \n",
        "   $$\n",
        "   y - f(a) = m(x - a)\n",
        "   $$  \n",
        "\n",
        "3. Titik potong dengan sumbu-$x$ ($y = 0$):  \n",
        "   $$\n",
        "   0 - f(a) = \\frac{f(b) - f(a)}{b - a}(c - a)\n",
        "   $$  \n",
        "\n",
        "4. Rumus titik baru $c$:  \n",
        "   $$\n",
        "   c = a - f(a)\\frac{b - a}{f(b) - f(a)}\n",
        "   $$  \n",
        "\n",
        "   Bentuk alternatif:  \n",
        "   $$\n",
        "   c = \\frac{a\\cdot f(b) - b\\cdot f(a)}{f(b) - f(a)}\n",
        "   $$  \n",
        "\n",
        "### Algoritma Regulasi Falsi\n",
        "1. Tentukan interval awal $[a, b]$ dengan $f(a)\\cdot f(b) < 0$.  \n",
        "2. Hitung titik baru $c$ dengan rumus:  \n",
        "   $$\n",
        "   c = \\frac{a\\cdot f(b) - b\\cdot f(a)}{f(b) - f(a)}\n",
        "   $$  \n",
        "3. Evaluasi $f(c)$.  \n",
        "   - Jika $f(c) = 0$, maka $c$ adalah akar.  \n",
        "   - Jika $f(a)\\cdot f(c) < 0$, maka akar berada pada $[a, c]$ → set $b = c$.  \n",
        "   - Jika $f(c)\\cdot f(b) < 0$, maka akar berada pada $[c, b]$ → set $a = c$.  \n",
        "4. Ulangi langkah hingga kriteria berhenti terpenuhi (misalnya selisih interval cukup kecil atau iterasi maksimum tercapai).\n"
      ],
      "metadata": {
        "id": "JRfNqKXxAwWj"
      }
    },
    {
      "cell_type": "code",
      "source": [
        "def f(x):\n",
        "    return x**2 - 4\n",
        "\n",
        "def regula_falsi(f, a, b, tol=1e-6, max_iter=100):\n",
        "    if f(a) * f(b) > 0:\n",
        "        raise ValueError(\"Fungsi tidak memiliki tanda berbeda\")\n",
        "    for i in range(max_iter):\n",
        "        c = b - (f(b)*(b-a))/(f(b)-f(a))\n",
        "        if abs(f(c)) < tol:\n",
        "            return c\n",
        "        if f(a) * f(c) < 0:\n",
        "            b = c\n",
        "        else:\n",
        "            a = c\n",
        "    return c\n",
        "\n",
        "a = 0\n",
        "b = 5\n",
        "akar = regula_falsi(f, a, b)\n",
        "print(\"Akarnya adalah:\", akar)\n"
      ],
      "metadata": {
        "colab": {
          "base_uri": "https://localhost:8080/"
        },
        "id": "FzGW3y0fJcyi",
        "outputId": "f04c1dad-2ae1-4a74-ffa5-95af6c12e94f"
      },
      "execution_count": 30,
      "outputs": [
        {
          "output_type": "stream",
          "name": "stdout",
          "text": [
            "Akarnya adalah: 1.9999998252069076\n"
          ]
        }
      ]
    },
    {
      "cell_type": "markdown",
      "source": [
        "###Pengertian Newton Method\n",
        "Newton Method (atau Newton-Raphson) adalah metode numerik untuk mencari akar persamaan f(x)=0. Metode ini menggunakan pendekatan garis singgung pada grafik fungsi untuk memperbaiki tebakan akar. Dibandingkan dengan metode bisection atau regulasi falsi, Newton Method biasanya lebih cepat konvergen asalkan tebakan awal cukup dekat dengan akar.\n",
        "\n",
        "###Dasar teori\n",
        "\n",
        "Metode ini tetap berangkat dari ide mencari x sehingga $f(x) = 0$. Jika kita punya sebuah tebakan awal , maka melalui titik $x_0$ , maka melalui titik ($x_0, f(x_0))$ dapat dibuat garis singgung dengan gradien $f'(x_0)$. Perpotongan garis singgung tersebut dengan sumbu-x akan digunakan sebagai perkiraan akar baru $x_1$. Proses ini diulang sampai perbedaan antara dua tebakan berturut-turut sangat kecil (mendekati nol). Syarat:\n",
        "\n",
        "\n",
        "1.   Fungsi $f(x)$ harus kontinu dan terdiferensialkan.\n",
        "2.   Turunan $f'(x)$ tidak boleh nol di titik iterasi.\n",
        "3.   Tebakan awal $x_0$sebaiknya cukup dekat dengan akar.\n",
        "\n",
        "###Rumus Newton Method:\n",
        "\n",
        "1. Persamaan garis singgung:  \n",
        "   $$ y - f(x_n) = f'(x_n)(x - x_n) $$  \n",
        "\n",
        "2. Titik potong dengan sumbu $-x (y=0)$:  \n",
        "   $$ 0 - f(x_n) = f'(x_n)(x_{n+1} - x_n) $$  \n",
        "\n",
        "3. Rumus iterasi:  \n",
        "   $$ x_{n+1} = x_n - \\frac{f(x_n)}{f'(x_n)} $$  \n",
        "\n",
        "### Algoritma Newton Method\n",
        "\n",
        "1. Tentukan tebakan awal $x_0$  \n",
        "2. Hitung $f(x_n)$ dan $f'(x_n)$  \n",
        "3. Perbarui nilai dengan rumus:  \n",
        "   $$ x_{n+1} = x_n - \\frac{f(x_n)}{f'(x_n)} $$  \n",
        "4. Ulangi hingga $|x_{n+1} - x_n| < \\varepsilon$ atau iterasi maksimum tercapai."
      ],
      "metadata": {
        "id": "P8DAOfAbXZiN"
      }
    },
    {
      "cell_type": "code",
      "source": [
        "import sympy as sp\n",
        "\n",
        "x = sp.symbols('x')\n",
        "f_expr = x**2 - 4\n",
        "f = sp.lambdify(x, f_expr, 'numpy')\n",
        "f_prime = sp.lambdify(x, sp.diff(f_expr, x), 'numpy')\n",
        "\n",
        "def newton_method(f, df, x0, tol=1e-6, max_iter=50):\n",
        "    x = x0\n",
        "    for i in range(max_iter):\n",
        "        if abs(df(x)) < 1e-12:\n",
        "            raise ValueError(\"Turunan mendekati nol!\")\n",
        "\n",
        "        x_new = x - f(x)/df(x)\n",
        "\n",
        "        if abs(x_new - x) < tol:\n",
        "            return x_new\n",
        "\n",
        "        x = x_new\n",
        "    return x\n",
        "\n",
        "# Contoh pemanggilan\n",
        "akar = newton_method(f, f_prime, x0=3)\n",
        "print(\"Akar ditemukan:\", akar)"
      ],
      "metadata": {
        "colab": {
          "base_uri": "https://localhost:8080/"
        },
        "id": "oi5bTf2PwSgu",
        "outputId": "9d7420a1-4f59-41a9-ea91-d3666cff0345"
      },
      "execution_count": 31,
      "outputs": [
        {
          "output_type": "stream",
          "name": "stdout",
          "text": [
            "Akar ditemukan: 2.0\n"
          ]
        }
      ]
    },
    {
      "cell_type": "markdown",
      "source": [
        "## Secant Method\n",
        "\n",
        "### Pengertian\n",
        "Metode Secant adalah metode numerik untuk mencari akar persamaan $f(x) = 0$.  \n",
        "Metode ini mirip dengan Newton Method, hanya saja turunan $f'(x)$ tidak dihitung langsung, melainkan didekati dengan garis secant melalui dua titik sebelumnya. Karena itu metode ini bisa dipakai meskipun turunan fungsi sulit atau mahal untuk dihitung.\n",
        "\n",
        "### Dasar Teori\n",
        "Jika pada Newton Method digunakan turunan analitik $f'(x)$, maka pada Secant Method turunan diganti dengan pendekatan numerik menggunakan selisih dua nilai fungsi:\n",
        "\n",
        "$$ f'(x) \\approx \\frac{f(x_1) - f(x_0)}{x_1 - x_0} $$\n",
        "\n",
        "Dengan begitu, persamaan iterasi Newton:\n",
        "\n",
        "$$ x_{n+1} = x_n - \\frac{f(x_n)}{f'(x_n)} $$\n",
        "\n",
        "berubah menjadi:\n",
        "\n",
        "$$ x_{n+1} = x_n - f(x_n) \\cdot \\frac{x_n - x_{n-1}}{f(x_n) - f(x_{n-1})} $$\n",
        "\n",
        "\n",
        "### Rumus Secant Method\n",
        "1. Aproksimasi turunan:\n",
        "   $$\n",
        "   f'(x_n) \\approx \\frac{f(x_n) - f(x_{n-1})}{x_n - x_{n-1}}\n",
        "   $$\n",
        "\n",
        "2. Iterasi akar:\n",
        "   $$\n",
        "   x_{n+1} = x_n - f(x_n) \\cdot \\frac{x_n - x_{n-1}}{f(x_n) - f(x_{n-1})}\n",
        "   $$\n",
        "\n",
        "\n",
        "### Algoritma Secant Method\n",
        "1. Tentukan dua tebakan awal $x_0$ dan $x_1$.  \n",
        "2. Hitung nilai fungsi $f(x_0)$ dan $f(x_1)$.  \n",
        "3. Lakukan iterasi untuk mencari akar:  \n",
        "   $$\n",
        "   x_{n+1} = x_n - f(x_n) \\cdot \\frac{x_n - x_{n-1}}{f(x_n) - f(x_{n-1})}\n",
        "   $$\n",
        "4. Periksa kriteria berhenti:\n",
        "   - Jika $|f(x_{n+1})| < tol\\_f$ atau $|x_{n+1} - x_n| < tol\\_x$, maka $x_{n+1}$ dianggap sebagai akar.\n",
        "5. Jika belum, perbarui:\n",
        "   $$\n",
        "   x_{n-1} = x_n, \\quad x_n = x_{n+1}\n",
        "   $$\n",
        "   lalu ulangi langkah.\n",
        "6. Jika sudah mencapai iterasi maksimum tanpa konvergensi, kembalikan nilai terakhir sebagai aproksimasi akar.\n"
      ],
      "metadata": {
        "id": "ugph5ZgdyZZ1"
      }
    },
    {
      "cell_type": "code",
      "source": [
        "def f(x):\n",
        "    return x**2 - 4\n",
        "\n",
        "def secant_method(f, x0, x1, tol=1e-6, max_iter=50):\n",
        "    for _ in range(max_iter):\n",
        "        f0, f1 = f(x0), f(x1)\n",
        "        if abs(f1) < tol:\n",
        "            return x1\n",
        "        x2 = x1 - f1 * (x1 - x0) / (f1 - f0)\n",
        "        if abs(x2 - x1) < tol:\n",
        "            return x2\n",
        "        x0, x1 = x1, x2\n",
        "    return x1\n",
        "\n",
        "akar = secant_method(f, 3, 2.5)\n",
        "print('Akar ditemukan:', akar)"
      ],
      "metadata": {
        "colab": {
          "base_uri": "https://localhost:8080/"
        },
        "id": "CKg9afgByav5",
        "outputId": "8f30ce91-c2a8-4b94-857a-1a9ec53cd16d"
      },
      "execution_count": 32,
      "outputs": [
        {
          "output_type": "stream",
          "name": "stdout",
          "text": [
            "Akar ditemukan: 2.000000000029735\n"
          ]
        }
      ]
    }
  ]
}