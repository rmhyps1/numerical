{
  "nbformat": 4,
  "nbformat_minor": 0,
  "metadata": {
    "colab": {
      "provenance": [],
      "authorship_tag": "ABX9TyPXy8FdxrpkXYsVTI90fWhs",
      "include_colab_link": true
    },
    "kernelspec": {
      "name": "python3",
      "display_name": "Python 3"
    },
    "language_info": {
      "name": "python"
    }
  },
  "cells": [
    {
      "cell_type": "markdown",
      "metadata": {
        "id": "view-in-github",
        "colab_type": "text"
      },
      "source": [
        "<a href=\"https://colab.research.google.com/github/rmhyps1/numerical/blob/main/TUGAS1.ipynb\" target=\"_parent\"><img src=\"https://colab.research.google.com/assets/colab-badge.svg\" alt=\"Open In Colab\"/></a>"
      ]
    },
    {
      "cell_type": "code",
      "source": [
        "import numpy as np\n",
        "import pandas as pd\n",
        "import sympy as sp\n",
        "import matplotlib.pyplot as plt"
      ],
      "metadata": {
        "id": "g7U_nUGczXkR"
      },
      "execution_count": 23,
      "outputs": []
    },
    {
      "cell_type": "markdown",
      "source": [
        "##**METODE BISECTION**\n",
        "Metode ini adalah salah satu algoritma numerik buat nyari akar dari suatu persamaan f(x)=0\n",
        "\n",
        "**Prinsip Dasar** metode ini ada pada **Teorama Nilai antara (intermediate value thoream)**. Jadi jika fungsi f(x) kontinu (ngga putus putus) dan kalau (f(a) < 0) tetapi di titik *b* hasilnya positif (f(b) > 0) berarti diantara a sama b pasti ada titik c yang bikin f(c) = 0\n",
        "\n",
        "**Langkah Langkah Dasar**\n",
        "1. Menentukan interval awal [a,b] dimana f(a) dan f(b) berlawanan tanda\n",
        "2. Menghitung titik tengah: c = (a + b) / 2\n",
        "3. Evaluasi f(c):\n",
        "   *   Jika f(c) = 0 atau sudah cukup dekat dengan 0, maka c adalah akar yang dicari\n",
        "   *   Jika f(a) × f(c) < 0, akar berada di [a,c] maka b = c\n",
        "   *    Jika f(c) × f(b) < 0, akar berada di [c,b] maka a = c\n",
        "4. Mengulangi langkah dua hingga tiga kali sampai kriteria berhenti terpenuhi\n",
        "\n",
        "\n",
        "\n"
      ],
      "metadata": {
        "id": "9cBO2xYMv2Df"
      }
    },
    {
      "cell_type": "code",
      "source": [
        "def f(x):\n",
        "  return x**2 - 4\n",
        "\n",
        "a = 0\n",
        "b = 5\n",
        "\n",
        "tol = 1e-6\n",
        "max_iter = 100\n",
        "\n",
        "for i in range(max_iter):\n",
        "  c = (a + b) / 2\n",
        "  if abs(f(c)) < tol:\n",
        "    break\n",
        "  if f(a) * f(c) < 0:\n",
        "    b = c\n",
        "  else:\n",
        "    a = c\n",
        "\n",
        "print(\"Akar ditemukan di x =\", c)"
      ],
      "metadata": {
        "colab": {
          "base_uri": "https://localhost:8080/"
        },
        "id": "MwR25_NT881O",
        "outputId": "266fd7c7-0abc-45ae-b908-b909a5316550"
      },
      "execution_count": 24,
      "outputs": [
        {
          "output_type": "stream",
          "name": "stdout",
          "text": [
            "Akar ditemukan di x = 1.9999998807907104\n"
          ]
        }
      ]
    },
    {
      "cell_type": "markdown",
      "source": [
        "##Regulasi Falsi\n",
        "Ini metode numerik buat nyari akar persamaan, alias nilai x yang bikin f(x) = 0. Jadii cara kerjanya mirip sama kaya bisection tapii kalau bisection selalu bagi dua interval di tengah, nah regulasi falsi ini malah pakai secant (garis lurus lewat dua titik ujung interval) dan mengambil titik potongnya ke sumbu-x buat dapetin tebakan akar baru\n",
        "\n",
        "**Dasar Teori** jadii metode ini tetap menggunakan Teorema Nilai Antara (IVT) dengan syarat:\n",
        "*   Fungsi f(x) kontinu pada interval [a, b]\n",
        "*   f(a) dan f(b) memiliki tanda berbeda\n",
        "\n",
        "**Rumus Regulasi Falsi**\n",
        "1. Rumus Gradien (kemiringan): m = [f(b) - f(a)] / (b - a)\n",
        "2. Persamaan Garis melalui (a, f(a)) dan (b, f(b)): y - f(a) = m(x - a)\n",
        "3. Mencari titik potong dengan sumbu-x (y = 0): 0 - f(a) = [f(b) - f(a)]/(b - a) x (c - a)\n",
        "4. Rumus Titik Baru c: c = a - f(a) x (b - a) / [f(b) - f(a)]\n",
        "5. Bentuk Alternatif: c = [a·f(b) - b·f(a)] / [f(b) - f(a)]\n",
        "\n",
        "**Algoritma Regulasi Falsi**\n",
        "1. Menentukan interval awal [a, b] dimana f(a) x f(b) < 0\n",
        "2. Menghitung titik baru c menggunakan rumus: c = [a·f(b) - b·f(a)] / [f(b) - f(a)]\n",
        "3. Mengevaluasi f(c)\n",
        "    *   Jika f(a) x f(c) < 0, akar di [a,c}, maka b = c\n",
        "    *   Jika f(c) x f(b) < 0, akar di [c,b] maka a = c\n",
        "    *   Jika f(c) = 0 maka c adalah akar\n",
        "\n",
        "\n"
      ],
      "metadata": {
        "id": "JRfNqKXxAwWj"
      }
    },
    {
      "cell_type": "code",
      "source": [
        "def f(x):\n",
        "    return x**2 - 4\n",
        "\n",
        "def regula_falsi(f, a, b, tol=1e-6, max_iter=100):\n",
        "    if f(a) * f(b) > 0:\n",
        "        raise ValueError(\"Fungsi tidak memiliki tanda berbeda\")\n",
        "    for i in range(max_iter):\n",
        "        c = b - (f(b)*(b-a))/(f(b)-f(a))\n",
        "        if abs(f(c)) < tol:\n",
        "            return c\n",
        "        if f(a) * f(c) < 0:\n",
        "            b = c\n",
        "        else:\n",
        "            a = c\n",
        "    return c\n",
        "\n",
        "a = 0\n",
        "b = 5\n",
        "akar = regula_falsi(f, a, b)\n",
        "print(\"Akarnya adalah:\", akar)\n"
      ],
      "metadata": {
        "colab": {
          "base_uri": "https://localhost:8080/"
        },
        "id": "FzGW3y0fJcyi",
        "outputId": "bd3279a0-dfaa-41f9-e753-56217ef85367"
      },
      "execution_count": 25,
      "outputs": [
        {
          "output_type": "stream",
          "name": "stdout",
          "text": [
            "Akarnya adalah: 1.9999998252069076\n"
          ]
        }
      ]
    },
    {
      "cell_type": "markdown",
      "source": [
        "###Pengertian Newton Method\n",
        "Newton Method (atau Newton-Raphson) adalah metode numerik untuk mencari akar persamaan f(x)=0. Metode ini menggunakan pendekatan garis singgung pada grafik fungsi untuk memperbaiki tebakan akar. Dibandingkan dengan metode bisection atau regulasi falsi, Newton Method biasanya lebih cepat konvergen asalkan tebakan awal cukup dekat dengan akar.\n",
        "\n",
        "###Dasar teori\n",
        "\n",
        "Metode ini tetap berangkat dari ide mencari x sehingga $f(x) = 0$. Jika kita punya sebuah tebakan awal , maka melalui titik $x_0$ , maka melalui titik ($x_0, f(x_0))$ dapat dibuat garis singgung dengan gradien $f'(x_0)$. Perpotongan garis singgung tersebut dengan sumbu-x akan digunakan sebagai perkiraan akar baru $x_1$. Proses ini diulang sampai perbedaan antara dua tebakan berturut-turut sangat kecil (mendekati nol). Syarat:\n",
        "\n",
        "\n",
        "1.   Fungsi $f(x)$ harus kontinu dan terdiferensialkan.\n",
        "2.   Turunan $f'(x)$ tidak boleh nol di titik iterasi.\n",
        "3.   Tebakan awal $x_0$sebaiknya cukup dekat dengan akar.\n",
        "\n",
        "###Rumus Newton Method:\n",
        "\n",
        "1. Persamaan garis singgung:  \n",
        "   $$ y - f(x_n) = f'(x_n)(x - x_n) $$  \n",
        "\n",
        "2. Titik potong dengan sumbu $-x (y=0)$:  \n",
        "   $$ 0 - f(x_n) = f'(x_n)(x_{n+1} - x_n) $$  \n",
        "\n",
        "3. Rumus iterasi:  \n",
        "   $$ x_{n+1} = x_n - \\frac{f(x_n)}{f'(x_n)} $$  \n",
        "\n",
        "### Algoritma Newton Method\n",
        "\n",
        "1. Tentukan tebakan awal $x_0$  \n",
        "2. Hitung $f(x_n)$ dan $f'(x_n)$  \n",
        "3. Perbarui nilai dengan rumus:  \n",
        "   $$ x_{n+1} = x_n - \\frac{f(x_n)}{f'(x_n)} $$  \n",
        "4. Ulangi hingga $|x_{n+1} - x_n| < \\varepsilon$ atau iterasi maksimum tercapai."
      ],
      "metadata": {
        "id": "P8DAOfAbXZiN"
      }
    },
    {
      "cell_type": "code",
      "source": [
        "import sympy as sp\n",
        "\n",
        "x = sp.symbols('x')\n",
        "f_expr = x**2 - 4\n",
        "f = sp.lambdify(x, f_expr, 'numpy')\n",
        "f_prime = sp.lambdify(x, sp.diff(f_expr, x), 'numpy')\n",
        "\n",
        "def newton_method(f, df, x0, tol=1e-6, max_iter=50):\n",
        "    x = x0\n",
        "    for i in range(max_iter):\n",
        "        if abs(df(x)) < 1e-12:\n",
        "            raise ValueError(\"Turunan mendekati nol!\")\n",
        "\n",
        "        x_new = x - f(x)/df(x)\n",
        "\n",
        "        if abs(x_new - x) < tol:\n",
        "            return x_new\n",
        "\n",
        "        x = x_new\n",
        "    return x\n",
        "\n",
        "# Contoh pemanggilan\n",
        "akar = newton_method(f, f_prime, x0=3)\n",
        "print(\"Akar ditemukan:\", akar)"
      ],
      "metadata": {
        "colab": {
          "base_uri": "https://localhost:8080/"
        },
        "id": "oi5bTf2PwSgu",
        "outputId": "8a3ab639-3628-4a9e-df15-0d5249923417"
      },
      "execution_count": 26,
      "outputs": [
        {
          "output_type": "stream",
          "name": "stdout",
          "text": [
            "Akar ditemukan: 2.0\n"
          ]
        }
      ]
    },
    {
      "cell_type": "markdown",
      "source": [
        "## Secant Method\n",
        "\n",
        "### Pengertian\n",
        "Metode Secant adalah metode numerik untuk mencari akar persamaan $f(x) = 0$.  \n",
        "Metode ini mirip dengan Newton Method, hanya saja turunan $f'(x)$ tidak dihitung langsung, melainkan didekati dengan garis secant melalui dua titik sebelumnya. Karena itu metode ini bisa dipakai meskipun turunan fungsi sulit atau mahal untuk dihitung.\n",
        "\n",
        "### Dasar Teori\n",
        "Jika pada Newton Method digunakan turunan analitik $f'(x)$, maka pada Secant Method turunan diganti dengan pendekatan numerik menggunakan selisih dua nilai fungsi:\n",
        "\n",
        "$$ f'(x) \\approx \\frac{f(x_1) - f(x_0)}{x_1 - x_0} $$\n",
        "\n",
        "Dengan begitu, persamaan iterasi Newton:\n",
        "\n",
        "$$ x_{n+1} = x_n - \\frac{f(x_n)}{f'(x_n)} $$\n",
        "\n",
        "berubah menjadi:\n",
        "\n",
        "$$ x_{n+1} = x_n - f(x_n) \\cdot \\frac{x_n - x_{n-1}}{f(x_n) - f(x_{n-1})} $$\n",
        "\n",
        "\n",
        "### Rumus Secant Method\n",
        "1. Aproksimasi turunan:\n",
        "   $$\n",
        "   f'(x_n) \\approx \\frac{f(x_n) - f(x_{n-1})}{x_n - x_{n-1}}\n",
        "   $$\n",
        "\n",
        "2. Iterasi akar:\n",
        "   $$\n",
        "   x_{n+1} = x_n - f(x_n) \\cdot \\frac{x_n - x_{n-1}}{f(x_n) - f(x_{n-1})}\n",
        "   $$\n",
        "\n",
        "\n",
        "### Algoritma Secant Method\n",
        "1. Tentukan dua tebakan awal $x_0$ dan $x_1$.  \n",
        "2. Hitung nilai fungsi $f(x_0)$ dan $f(x_1)$.  \n",
        "3. Lakukan iterasi untuk mencari akar:  \n",
        "   $$\n",
        "   x_{n+1} = x_n - f(x_n) \\cdot \\frac{x_n - x_{n-1}}{f(x_n) - f(x_{n-1})}\n",
        "   $$\n",
        "4. Periksa kriteria berhenti:\n",
        "   - Jika $|f(x_{n+1})| < tol\\_f$ atau $|x_{n+1} - x_n| < tol\\_x$, maka $x_{n+1}$ dianggap sebagai akar.\n",
        "5. Jika belum, perbarui:\n",
        "   $$\n",
        "   x_{n-1} = x_n, \\quad x_n = x_{n+1}\n",
        "   $$\n",
        "   lalu ulangi langkah.\n",
        "6. Jika sudah mencapai iterasi maksimum tanpa konvergensi, kembalikan nilai terakhir sebagai aproksimasi akar.\n"
      ],
      "metadata": {
        "id": "ugph5ZgdyZZ1"
      }
    },
    {
      "cell_type": "code",
      "source": [
        "def f(x):\n",
        "    return x**2 - 4\n",
        "\n",
        "def secant_method(f, x0, x1, tol=1e-6, max_iter=50):\n",
        "    for _ in range(max_iter):\n",
        "        f0, f1 = f(x0), f(x1)\n",
        "        if abs(f1) < tol:\n",
        "            return x1\n",
        "        x2 = x1 - f1 * (x1 - x0) / (f1 - f0)\n",
        "        if abs(x2 - x1) < tol:\n",
        "            return x2\n",
        "        x0, x1 = x1, x2\n",
        "    return x1\n",
        "\n",
        "akar = secant_method(f, 3, 2.5)\n",
        "print('Akar ditemukan:', akar)"
      ],
      "metadata": {
        "colab": {
          "base_uri": "https://localhost:8080/"
        },
        "id": "CKg9afgByav5",
        "outputId": "d7ce5dd5-9dc4-4194-9789-78173d01922e"
      },
      "execution_count": 27,
      "outputs": [
        {
          "output_type": "stream",
          "name": "stdout",
          "text": [
            "Akar ditemukan: 2.000000000029735\n"
          ]
        }
      ]
    }
  ]
}