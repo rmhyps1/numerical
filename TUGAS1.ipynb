{
  "nbformat": 4,
  "nbformat_minor": 0,
  "metadata": {
    "colab": {
      "provenance": [],
      "authorship_tag": "ABX9TyOZbBqKw1aIQniIQOCXBqmw",
      "include_colab_link": true
    },
    "kernelspec": {
      "name": "python3",
      "display_name": "Python 3"
    },
    "language_info": {
      "name": "python"
    }
  },
  "cells": [
    {
      "cell_type": "markdown",
      "metadata": {
        "id": "view-in-github",
        "colab_type": "text"
      },
      "source": [
        "<a href=\"https://colab.research.google.com/github/rmhyps1/numerical/blob/main/TUGAS1.ipynb\" target=\"_parent\"><img src=\"https://colab.research.google.com/assets/colab-badge.svg\" alt=\"Open In Colab\"/></a>"
      ]
    },
    {
      "cell_type": "code",
      "source": [
        "import numpy as np\n",
        "import pandas as pd\n",
        "import matplotlib.pyplot as plt"
      ],
      "metadata": {
        "id": "g7U_nUGczXkR"
      },
      "execution_count": null,
      "outputs": []
    },
    {
      "cell_type": "markdown",
      "source": [
        "##**METODE BISECTION**\n",
        "Metode ini adalah salah satu algoritma numerik buat nyari akar dari suatu persamaan f(x)=0\n",
        "\n",
        "**Prinsip Dasar** metode ini ada pada **Teorama Nilai antara (intermediate value thoream)**. Jadi jika fungsi f(x) kontinu (ngga putus putus) dan kalau (f(a) < 0) tetapi di titik *b* hasilnya positif (f(b) > 0) berarti diantara a sama b pasti ada titik c yang bikin f(c) = 0\n",
        "\n",
        "**Langkah Langkah Dasar**\n",
        "1. Menentukan interval awal [a,b] dimana f(a) dan f(b) berlawanan tanda\n",
        "2. Menghitung titik tengah: c = (a + b) / 2\n",
        "3. Evaluasi f(c):\n",
        "   *   Jika f(c) = 0 atau sudah cukup dekat dengan 0, maka c adalah akar yang dicari\n",
        "   *   Jika f(a) × f(c) < 0, akar berada di [a,c] maka b = c\n",
        "   *    Jika f(c) × f(b) < 0, akar berada di [c,b] maka a = c\n",
        "4. Mengulangi langkah dua hingga tiga kali sampai kriteria berhenti terpenuhi\n",
        "\n",
        "\n",
        "\n"
      ],
      "metadata": {
        "id": "9cBO2xYMv2Df"
      }
    },
    {
      "cell_type": "code",
      "source": [
        "def f(x):\n",
        "  return x**2 - 4\n",
        "\n",
        "a = 0\n",
        "b = 5\n",
        "\n",
        "tol = 1e-6\n",
        "max_iter = 100\n",
        "\n",
        "for i in range(max_iter):\n",
        "  c = (a + b) / 2\n",
        "  if abs(f(c)) < tol:\n",
        "    break\n",
        "  if f(a) * f(c) < 0:\n",
        "    b = c\n",
        "  else:\n",
        "    a = c\n",
        "\n",
        "print(\"Akar ditemukan di x =\", c)"
      ],
      "metadata": {
        "colab": {
          "base_uri": "https://localhost:8080/"
        },
        "id": "MwR25_NT881O",
        "outputId": "c6e9cd52-5216-4286-89d4-b956a5671335"
      },
      "execution_count": null,
      "outputs": [
        {
          "output_type": "stream",
          "name": "stdout",
          "text": [
            "Akar ditemukan di x = 1.9999998807907104\n"
          ]
        }
      ]
    },
    {
      "cell_type": "markdown",
      "source": [
        "##Regulasi Falsi\n",
        "Ini metode numerik buat nyari akar persamaan, alias nilai x yang bikin f(x) = 0. Jadii cara kerjanya mirip sama kaya bisection tapii kalau bisection selalu bagi dua interval di tengah, nah regulasi falsi ini malah pakai secant (garis lurus lewat dua titik ujung interval) dan mengambil titik potongnya ke sumbu-x buat dapetin tebakan akar baru\n",
        "\n",
        "**Dasar Teori** jadii metode ini tetap menggunakan Teorema Nilai Antara (IVT) dengan syarat:\n",
        "*   Fungsi f(x) kontinu pada interval [a, b]\n",
        "*   f(a) dan f(b) memiliki tanda berbeda\n",
        "\n",
        "**Rumus Regulasi Falsi**\n",
        "1. Rumus Gradien (kemiringan): m = [f(b) - f(a)] / (b - a)\n",
        "2. Persamaan Garis melalui (a, f(a)) dan (b, f(b)): y - f(a) = m(x - a)\n",
        "3. Mencari titik potong dengan sumbu-x (y = 0): 0 - f(a) = [f(b) - f(a)]/(b - a) x (c - a)\n",
        "4. Rumus Titik Baru c: c = a - f(a) x (b - a) / [f(b) - f(a)]\n",
        "5. Bentuk Alternatif: c = [a·f(b) - b·f(a)] / [f(b) - f(a)]\n",
        "\n",
        "**Algoritma Regulasi Falsi**\n",
        "1. Menentukan interval awal [a, b] dimana f(a) x f(b) < 0\n",
        "2. Menghitung titik baru c menggunakan rumus: c = [a·f(b) - b·f(a)] / [f(b) - f(a)]\n",
        "3. Mengevaluasi f(c)\n",
        "    *   Jika f(a) x f(c) < 0, akar di [a,c}, maka b = c\n",
        "    *   Jika f(c) x f(b) < 0, akar di [c,b] maka a = c\n",
        "    *   Jika f(c) = 0 maka c adalah akar\n",
        "\n",
        "\n"
      ],
      "metadata": {
        "id": "JRfNqKXxAwWj"
      }
    },
    {
      "cell_type": "code",
      "source": [
        "def f(x):\n",
        "    return x**2 - 4\n",
        "\n",
        "def regula_falsi(f, a, b, tol=1e-6, max_iter=100):\n",
        "    if f(a) * f(b) > 0:\n",
        "        raise ValueError(\"Fungsi tidak memiliki tanda berbeda\")\n",
        "    for i in range(max_iter):\n",
        "        c = b - (f(b)*(b-a))/(f(b)-f(a))\n",
        "        if abs(f(c)) < tol:\n",
        "            return c\n",
        "        if f(a) * f(c) < 0:\n",
        "            b = c\n",
        "        else:\n",
        "            a = c\n",
        "    return c\n",
        "\n",
        "a = 0\n",
        "b = 5\n",
        "akar = regula_falsi(f, a, b)\n",
        "print(\"Akarnya adalah:\", akar)\n"
      ],
      "metadata": {
        "colab": {
          "base_uri": "https://localhost:8080/"
        },
        "id": "FzGW3y0fJcyi",
        "outputId": "6ecc0bc3-9f64-4bdb-9cb7-062f1a864fca"
      },
      "execution_count": 9,
      "outputs": [
        {
          "output_type": "stream",
          "name": "stdout",
          "text": [
            "Akarnya adalah: 1.9999998252069076\n"
          ]
        }
      ]
    }
  ]
}